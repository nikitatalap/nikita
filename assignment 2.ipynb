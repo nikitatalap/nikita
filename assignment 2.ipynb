{
 "cells": [
  {
   "cell_type": "code",
   "execution_count": 2,
   "id": "a49b8745-c2a7-486c-a400-d8f908b754ea",
   "metadata": {},
   "outputs": [],
   "source": [
    "#QUESTION NO.1\n",
    "\n",
    "#SINGLE LINE COMMENT :\n",
    "\n",
    "#THIS TYPE OF COMMENTS ARE USED TO EXPLAIN A SINGLE LINE OF CODE (YOU CAN WRITE MULTIPLE LINES COMMENTS BY USING #)\n",
    "\n",
    "# MULTILINE COMMENTS:\n",
    "\n",
    "#THESE COMMENTS SPAN MULTIPLE LINES AND ARE TYPICALLY USED TO PROVIDE LONGER EXPLANATION (YOU CAN WRITE MULTIPLE LINES COMMENTS BY USING \"\"\" OR ''') \n"
   ]
  },
  {
   "cell_type": "code",
   "execution_count": 3,
   "id": "9cc9780d-547e-4266-885c-873795f39a1a",
   "metadata": {},
   "outputs": [],
   "source": [
    "# QUESTION NO.2\n",
    "\n",
    "#TYPES OF VARIABLES : INTEGER,STRING,FLOATING NUMBER,BOOLEN,LIST,SET,TUPLES, DICTIONARY"
   ]
  },
  {
   "cell_type": "code",
   "execution_count": 4,
   "id": "b3b6a86f-dcad-4714-93d7-fdbcb6f8d67c",
   "metadata": {},
   "outputs": [],
   "source": [
    "int= 2"
   ]
  },
  {
   "cell_type": "code",
   "execution_count": 5,
   "id": "49048c78-ecf3-4dfa-bf38-3dbc37c80917",
   "metadata": {},
   "outputs": [],
   "source": [
    "str=\"nikita\""
   ]
  },
  {
   "cell_type": "code",
   "execution_count": 6,
   "id": "cd1b4d98-8483-4515-afa2-affa4ab1ed57",
   "metadata": {},
   "outputs": [],
   "source": [
    "int= 2.5"
   ]
  },
  {
   "cell_type": "code",
   "execution_count": 7,
   "id": "f5e73894-ec03-492e-af02-227405cf7cbd",
   "metadata": {},
   "outputs": [
    {
     "data": {
      "text/plain": [
       "float"
      ]
     },
     "execution_count": 7,
     "metadata": {},
     "output_type": "execute_result"
    }
   ],
   "source": [
    "type(int)"
   ]
  },
  {
   "cell_type": "code",
   "execution_count": 8,
   "id": "53909961-fd35-4d31-b672-9b82b69d5dbb",
   "metadata": {},
   "outputs": [],
   "source": [
    "bool= \"True\""
   ]
  },
  {
   "cell_type": "code",
   "execution_count": 9,
   "id": "7bd7e1ee-59c7-4fb4-ba5d-7e6e05e779eb",
   "metadata": {},
   "outputs": [],
   "source": [
    "list= [1,2,3,4,5]"
   ]
  },
  {
   "cell_type": "code",
   "execution_count": 10,
   "id": "439caf1c-bcea-4d13-9122-9e1beb0cc916",
   "metadata": {},
   "outputs": [],
   "source": [
    "set= {1,2,3}"
   ]
  },
  {
   "cell_type": "code",
   "execution_count": 11,
   "id": "80f38454-7274-441d-817f-346071f822ac",
   "metadata": {},
   "outputs": [],
   "source": [
    "tuple=(4,5,6)"
   ]
  },
  {
   "cell_type": "code",
   "execution_count": 12,
   "id": "8e9ddff1-a713-43ef-8fbd-64ee44557dd1",
   "metadata": {},
   "outputs": [],
   "source": [
    "complex= 1+2j"
   ]
  },
  {
   "cell_type": "code",
   "execution_count": 13,
   "id": "f3d2cb79-7fce-4f24-9cb7-cf3fae632b59",
   "metadata": {},
   "outputs": [],
   "source": [
    "dict= {\"name\":\"nikita\",\"number\":9673096717}"
   ]
  },
  {
   "cell_type": "code",
   "execution_count": 14,
   "id": "267c4b9f-3b40-4202-82fd-39b72b859d69",
   "metadata": {},
   "outputs": [],
   "source": [
    "#QUESTION NO.3"
   ]
  },
  {
   "cell_type": "code",
   "execution_count": 18,
   "id": "f223da49-a1c5-429b-9884-e3ac2d1a2115",
   "metadata": {},
   "outputs": [
    {
     "name": "stdout",
     "output_type": "stream",
     "text": [
      "my age is 25\n"
     ]
    }
   ],
   "source": [
    "age = 25\n",
    "print(f\"my age is {age}\")"
   ]
  },
  {
   "cell_type": "code",
   "execution_count": 19,
   "id": "8f775057-65b2-4657-a8b6-00387e5c8811",
   "metadata": {},
   "outputs": [],
   "source": [
    "a=2\n",
    "b=2.5\n",
    "c=(a+b)"
   ]
  },
  {
   "cell_type": "code",
   "execution_count": 20,
   "id": "b7e00c8c-632c-4e76-8c3d-e5f4be9896e5",
   "metadata": {},
   "outputs": [
    {
     "data": {
      "text/plain": [
       "4.5"
      ]
     },
     "execution_count": 20,
     "metadata": {},
     "output_type": "execute_result"
    }
   ],
   "source": [
    "c"
   ]
  },
  {
   "cell_type": "code",
   "execution_count": 21,
   "id": "4ccc0f1b-baab-4cfd-9fb8-5c439fe75eee",
   "metadata": {},
   "outputs": [],
   "source": [
    "# QUESTION NO.4\n",
    "\n",
    "# HOW DO YOU WRITE AND EXECUTE A PYTHONE SCRIPT FROM THE COMMAND LINE\n",
    "\n",
    "# FOLLOW THESE STEPS\n",
    "\n",
    "# 1) OPEN A TEXT EDITOR AND CREATE A NEW FILE. ENTER YOUR PYTHON CODE IN THE FILE , FOLLOWING THE PYTHON SYNTAX RULES\n",
    "\n",
    "# 2) SAVE THE FILE WITH A .py EXTENSION\n",
    "\n",
    "# 3) OPEN A COMMAND PROMPT ON YOUR OPERATING SYSTEM\n",
    "\n",
    "# 4) NAVIGATE TO THE DIRECTORY WHERE YOU SAVED THE PYTHONE SCRIPT USING 'cd' COMMAND\n",
    "\n",
    "# 5) ONCE YOU ARE IN THE CORRECT DIRECTORY , YOU CAN EXECUTE THE PYTHON SCRIPT USING THE 'python' COMMAND FOLLOWED BY THE SCRIPT'S FILENAME."
   ]
  },
  {
   "cell_type": "code",
   "execution_count": 27,
   "id": "008274b4-a6c3-4d8d-97d6-8dd7df3eb0b6",
   "metadata": {},
   "outputs": [
    {
     "name": "stdout",
     "output_type": "stream",
     "text": [
      "[2, 3]\n"
     ]
    }
   ],
   "source": [
    "# QUESTION NO. 5\n",
    "\n",
    "my_list= [1,2,3,4,5]\n",
    "\n",
    "sub_list= my_list[1:3]\n",
    "print(sub_list)"
   ]
  },
  {
   "cell_type": "code",
   "execution_count": 28,
   "id": "d61b322a-d1ea-47e7-9fc5-63be9c90199c",
   "metadata": {},
   "outputs": [],
   "source": [
    "# QUESTION NO.6\n",
    "\n",
    "# COMPLEX NUMBER IS THE COMBINATION OF REAL NUMBER AND IMAGINARY NUMBER AND IT IS REPRESENTED BY A+Bj. A= REAL PART, B= IMAGINERY PART\n",
    "\n",
    "complex= 1+2j"
   ]
  },
  {
   "cell_type": "code",
   "execution_count": 29,
   "id": "da0d49d2-7a43-4e32-b594-702c4e164c28",
   "metadata": {},
   "outputs": [
    {
     "data": {
      "text/plain": [
       "complex"
      ]
     },
     "execution_count": 29,
     "metadata": {},
     "output_type": "execute_result"
    }
   ],
   "source": [
    "type(complex)"
   ]
  },
  {
   "cell_type": "code",
   "execution_count": 30,
   "id": "f0c5140f-3239-4963-851a-eede6cb17089",
   "metadata": {},
   "outputs": [],
   "source": [
    "# QUESTION NO.7\n",
    "\n",
    "age=25"
   ]
  },
  {
   "cell_type": "code",
   "execution_count": 31,
   "id": "8ba872fa-7189-4f64-86a7-cc65de56d3c8",
   "metadata": {},
   "outputs": [
    {
     "data": {
      "text/plain": [
       "25"
      ]
     },
     "execution_count": 31,
     "metadata": {},
     "output_type": "execute_result"
    }
   ],
   "source": [
    "age"
   ]
  },
  {
   "cell_type": "code",
   "execution_count": 32,
   "id": "97cee736-960f-4eec-8f62-3e4fec51848e",
   "metadata": {},
   "outputs": [],
   "source": [
    "# QUESTION NO.8\n",
    "\n",
    "price= 9.99\n"
   ]
  },
  {
   "cell_type": "code",
   "execution_count": 33,
   "id": "d290e339-7346-43bf-b695-152d4b20dc70",
   "metadata": {},
   "outputs": [
    {
     "name": "stdout",
     "output_type": "stream",
     "text": [
      "9.99\n"
     ]
    }
   ],
   "source": [
    "print(price)"
   ]
  },
  {
   "cell_type": "code",
   "execution_count": 34,
   "id": "25df013a-6991-4853-8425-18e9a56f1762",
   "metadata": {},
   "outputs": [
    {
     "data": {
      "text/plain": [
       "float"
      ]
     },
     "execution_count": 34,
     "metadata": {},
     "output_type": "execute_result"
    }
   ],
   "source": [
    "type(price)"
   ]
  },
  {
   "cell_type": "code",
   "execution_count": 35,
   "id": "28f9b5b8-1bfd-4524-91e3-11ab70a2fd3a",
   "metadata": {},
   "outputs": [],
   "source": [
    "# QUESTION NO.9\n",
    "\n",
    "name=\"NIKITA PATANGRAO TALAP\"\n"
   ]
  },
  {
   "cell_type": "code",
   "execution_count": 36,
   "id": "a86bd563-df58-4b88-a01c-7c451fa28bd7",
   "metadata": {},
   "outputs": [
    {
     "data": {
      "text/plain": [
       "'NIKITA PATANGRAO TALAP'"
      ]
     },
     "execution_count": 36,
     "metadata": {},
     "output_type": "execute_result"
    }
   ],
   "source": [
    "name"
   ]
  },
  {
   "cell_type": "code",
   "execution_count": 37,
   "id": "27bf11e6-c4ac-4a30-ac52-c675b1b66f02",
   "metadata": {},
   "outputs": [
    {
     "data": {
      "text/plain": [
       "str"
      ]
     },
     "execution_count": 37,
     "metadata": {},
     "output_type": "execute_result"
    }
   ],
   "source": [
    "type(name)"
   ]
  },
  {
   "cell_type": "code",
   "execution_count": 41,
   "id": "c2ec7ed5-8b08-460d-82fd-db47e17d8610",
   "metadata": {},
   "outputs": [
    {
     "name": "stdout",
     "output_type": "stream",
     "text": [
      "WORLD\n"
     ]
    }
   ],
   "source": [
    "# QUESTION NO.10\n",
    "\n",
    "string=\"HELLO WORLD\"\n",
    "\n",
    "substring= string[6:]\n",
    "print(substring)\n"
   ]
  },
  {
   "cell_type": "code",
   "execution_count": null,
   "id": "d8d1ee66-4d6e-468f-8945-a1be4fa2cb75",
   "metadata": {},
   "outputs": [],
   "source": [
    "# QUESTION NO.11\n",
    "\n",
    "is_student=\"True\"\n",
    "\n",
    "is_student=\"True\"\n",
    "\n",
    "\n"
   ]
  }
 ],
 "metadata": {
  "kernelspec": {
   "display_name": "Python 3 (ipykernel)",
   "language": "python",
   "name": "python3"
  },
  "language_info": {
   "codemirror_mode": {
    "name": "ipython",
    "version": 3
   },
   "file_extension": ".py",
   "mimetype": "text/x-python",
   "name": "python",
   "nbconvert_exporter": "python",
   "pygments_lexer": "ipython3",
   "version": "3.10.8"
  }
 },
 "nbformat": 4,
 "nbformat_minor": 5
}
